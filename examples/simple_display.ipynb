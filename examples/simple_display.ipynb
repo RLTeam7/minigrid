{
 "cells": [
  {
   "cell_type": "code",
   "execution_count": 2,
   "metadata": {},
   "outputs": [],
   "source": [
    "import numpy as np\n",
    "from minigrid.minigrid_env import MiniGridEnv\n",
    "from minigrid.core.mission import MissionSpace\n",
    "from minigrid.core.world_object import Door, Goal, Key, Wall\n",
    "from minigrid.core.constants import COLOR_NAMES\n",
    "from minigrid.core.grid import Grid\n",
    "import matplotlib.pyplot as plt\n",
    "from minigrid.wrappers import RGBImgObsWrapper\n",
    "# from gymnasium.wrappers import RecordVideo"
   ]
  },
  {
   "cell_type": "code",
   "execution_count": 3,
   "metadata": {},
   "outputs": [],
   "source": [
    "# cuda visible device = 1 in python\n",
    "import os\n",
    "os.environ[\"CUDA_VISIBLE_DEVICES\"] = \"0\""
   ]
  },
  {
   "cell_type": "code",
   "execution_count": 4,
   "metadata": {},
   "outputs": [],
   "source": [
    "class SimpleEnv(MiniGridEnv):\n",
    "    def __init__(\n",
    "        self,\n",
    "        size=8,\n",
    "        agent_start_pos=(1, 1),\n",
    "        agent_start_dir=0,\n",
    "        **kwargs,\n",
    "    ):\n",
    "        self.agent_start_pos = agent_start_pos\n",
    "        self.agent_start_dir = agent_start_dir\n",
    "        self.render_mode = \"rgb_array\"\n",
    "        mission_space = MissionSpace(mission_func=self._gen_mission)\n",
    "\n",
    "        super().__init__(\n",
    "            mission_space=mission_space,\n",
    "            grid_size=size,\n",
    "            max_steps=256,\n",
    "            **kwargs,\n",
    "        )\n",
    "\n",
    "    @staticmethod\n",
    "    def _gen_mission():\n",
    "        return \"grand mission\"\n",
    "\n",
    "    def _gen_grid(self, width, height):\n",
    "        # Create an empty grid\n",
    "        self.grid = Grid(width, height)\n",
    "\n",
    "        # Generate the surrounding walls\n",
    "        self.grid.wall_rect(0, 0, width, height)\n",
    "\n",
    "        # Generate vertical separation wall\n",
    "        for i in range(0, height):\n",
    "            self.grid.set(5, i, Wall())\n",
    "        \n",
    "        # Place the door and key\n",
    "        self.grid.set(5, 6, Door(COLOR_NAMES[0], is_locked=True))\n",
    "        self.grid.set(3, 6, Key(COLOR_NAMES[0]))\n",
    "\n",
    "        # Place a goal square in the bottom-right corner\n",
    "        self.put_obj(Goal(), width - 2, height - 2)\n",
    "\n",
    "        # Place the agent\n",
    "        if self.agent_start_pos is not None:\n",
    "            self.agent_pos = self.agent_start_pos\n",
    "            self.agent_dir = self.agent_start_dir\n",
    "        else:\n",
    "            self.place_agent()"
   ]
  },
  {
   "cell_type": "code",
   "execution_count": 5,
   "metadata": {},
   "outputs": [
    {
     "name": "stderr",
     "output_type": "stream",
     "text": [
      "/home/han/anaconda3/envs/rl/lib/python3.8/site-packages/gymnasium/core.py:311: UserWarning: \u001b[33mWARN: env.get_frame to get variables from other wrappers is deprecated and will be removed in v1.0, to get this variable you can do `env.unwrapped.get_frame` for environment variables or `env.get_wrapper_attr('get_frame')` that will search the reminding wrappers.\u001b[0m\n",
      "  logger.warn(\n"
     ]
    },
    {
     "data": {
      "text/plain": [
       "<matplotlib.image.AxesImage at 0x7f18be4c7f40>"
      ]
     },
     "execution_count": 5,
     "metadata": {},
     "output_type": "execute_result"
    },
    {
     "data": {
      "image/png": "[encoded data removed]",
      "text/plain": [
       "<Figure size 640x480 with 1 Axes>"
      ]
     },
     "metadata": {},
     "output_type": "display_data"
    }
   ],
   "source": [
    "env = SimpleEnv()\n",
    "env = RGBImgObsWrapper(env)\n",
    "obs, _ = env.reset()\n",
    "plt.imshow(obs['image'])"
   ]
  },
  {
   "cell_type": "code",
   "execution_count": 43,
   "metadata": {},
   "outputs": [
    {
     "name": "stdout",
     "output_type": "stream",
     "text": [
      "4\n"
     ]
    },
    {
     "data": {
      "text/plain": [
       "<matplotlib.image.AxesImage at 0x7f18b8f60c10>"
      ]
     },
     "execution_count": 43,
     "metadata": {},
     "output_type": "execute_result"
    },
    {
     "data": {
      "image/png": "[encoded data removed]",
      "text/plain": [
       "<Figure size 640x480 with 1 Axes>"
      ]
     },
     "metadata": {},
     "output_type": "display_data"
    }
   ],
   "source": [
    "import random\n",
    "action = random.randint(0, env.action_space.n - 1)\n",
    "obs, reward, done, info, _ = env.step(action)\n",
    "print(action)\n",
    "plt.imshow(obs['image'])"
   ]
  },
  {
   "cell_type": "code",
   "execution_count": 46,
   "metadata": {},
   "outputs": [
    {
     "data": {
      "text/plain": [
       "<RGBImgObsWrapperWGWGWGWGWGWGWGWG\n",
       "WG        WG  WG\n",
       "WG      ^^WG  WG\n",
       "WG        WG  WG\n",
       "WG        WG  WG\n",
       "WG        WG  WG\n",
       "WG    KB  LBGGWG\n",
       "WGWGWGWGWGWGWGWG>"
      ]
     },
     "execution_count": 46,
     "metadata": {},
     "output_type": "execute_result"
    }
   ],
   "source": [
    "env"
   ]
  },
  {
   "cell_type": "code",
   "execution_count": null,
   "metadata": {},
   "outputs": [],
   "source": [
    "# Q-learning settings\n",
    "learning_rate = 0.1\n",
    "discount_factor = 0.99\n",
    "epsilon = 1.0\n",
    "min_epsilon = 0.1\n",
    "epsilon_decay = 0.99\n",
    "episodes = 1000"
   ]
  },
  {
   "cell_type": "code",
   "execution_count": null,
   "metadata": {},
   "outputs": [],
   "source": [
    "# Initialize Q-table\n",
    "action_space = env.action_space.n\n",
    "state_space = np.prod(env.observation_space.shape)  # Assuming flat observation space\n",
    "Q = np.random.uniform(low=0, high=1, size=(state_space, action_space))\n",
    "\n",
    "def get_state_index(observation):\n",
    "    \"\"\" Flatten the observation to a single integer for indexing Q-table \"\"\"\n",
    "    return np.ravel_multi_index(observation.astype(int), env.observation_space.shape)\n",
    "\n",
    "def epsilon_greedy_policy(state, epsilon):\n",
    "    if np.random.rand() < epsilon:\n",
    "        return env.action_space.sample()  # Explore: select a random action\n",
    "    else:\n",
    "        return np.argmax(Q[state])  # Exploit: select the best action from Q-table\n",
    "\n",
    "# Training loop\n",
    "for episode in range(episodes):\n",
    "    observation = env.reset()\n",
    "    state = get_state_index(observation)\n",
    "    done = False\n",
    "    \n",
    "    while not done:\n",
    "        action = epsilon_greedy_policy(state, epsilon)  # Decide action\n",
    "        next_observation, reward, done, info = env.step(action)  # Take action\n",
    "        next_state = get_state_index(next_observation)  # Get new state\n",
    "        \n",
    "        # Q-learning update\n",
    "        best_next_action = np.argmax(Q[next_state])\n",
    "        td_target = reward + discount_factor * Q[next_state][best_next_action]\n",
    "        td_error = td_target - Q[state][action]\n",
    "        Q[state][action] += learning_rate * td_error\n",
    "\n",
    "        state = next_state  # Update state to new state\n",
    "        \n",
    "    # Decay epsilon\n",
    "    if epsilon > min_epsilon:\n",
    "        epsilon *= epsilon_decay"
   ]
  }
 ],
 "metadata": {
  "kernelspec": {
   "display_name": "rl",
   "language": "python",
   "name": "python3"
  },
  "language_info": {
   "codemirror_mode": {
    "name": "ipython",
    "version": 3
   },
   "file_extension": ".py",
   "mimetype": "text/x-python",
   "name": "python",
   "nbconvert_exporter": "python",
   "pygments_lexer": "ipython3",
   "version": "3.8.19"
  }
 },
 "nbformat": 4,
 "nbformat_minor": 2
}
